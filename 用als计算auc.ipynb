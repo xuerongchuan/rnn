{
 "cells": [
  {
   "cell_type": "code",
   "execution_count": 1,
   "metadata": {},
   "outputs": [],
   "source": [
    "import pandas as pd\n",
    "import numpy as np\n",
    "import time\n",
    "import scipy.sparse as sp\n",
    "#import pandas as pd\n",
    "from implicit.als import AlternatingLeastSquares\n",
    "import math\n",
    "from  sklearn.metrics import roc_auc_score "
   ]
  },
  {
   "cell_type": "code",
   "execution_count": 2,
   "metadata": {},
   "outputs": [],
   "source": [
    "train = pd.read_csv('../data/ml-1m/train_month.csv')\n",
    "test = pd.read_csv('../data/ml-1m/test_month.csv')\n",
    "\n",
    "\n",
    "train_sp_matrix = sp.coo_matrix(([1]*len(train), [train.user.values, \\\n",
    "\t\t\ttrain.movie.values])).tolil()\n",
    "item_list = train.movie.unique()\n",
    "for u in train.user:\n",
    "\tuser_hist = train[train.user==u].movie.values\n",
    "\tneg_i = np.random.choice(item_list)\n",
    "\twhile neg_i in user_hist:\n",
    "\t\tneg_i = np.random.choice(item_list)\n",
    "\ttrain_sp_matrix[u, neg_i] = 0\n",
    "train_sp_matrix =train_sp_matrix.tocsr()"
   ]
  },
  {
   "cell_type": "code",
   "execution_count": 3,
   "metadata": {},
   "outputs": [
    {
     "name": "stdout",
     "output_type": "stream",
     "text": [
      "开始构建模型\n"
     ]
    },
    {
     "name": "stderr",
     "output_type": "stream",
     "text": [
      "WARNING:root:OpenBLAS detected. Its highly recommend to set the environment variable 'export OPENBLAS_NUM_THREADS=1' to disable its internal multithreading\n",
      "100%|██████████████████████████████████████████████████████████████████████████████| 100.0/100 [00:10<00:00,  9.10it/s]\n"
     ]
    },
    {
     "name": "stdout",
     "output_type": "stream",
     "text": [
      "模型构建完毕\n"
     ]
    }
   ],
   "source": [
    "print('开始构建模型')\n",
    "model = AlternatingLeastSquares(factors= 16, iterations = 100)\n",
    "model.fit(train_sp_matrix.transpose()) \n",
    "print('模型构建完毕')"
   ]
  },
  {
   "cell_type": "code",
   "execution_count": 14,
   "metadata": {},
   "outputs": [],
   "source": [
    "from sklearn.utils import shuffle\n",
    "test = shuffle(test)"
   ]
  },
  {
   "cell_type": "code",
   "execution_count": 15,
   "metadata": {},
   "outputs": [
    {
     "data": {
      "text/html": [
       "<div>\n",
       "<table border=\"1\" class=\"dataframe\">\n",
       "  <thead>\n",
       "    <tr style=\"text-align: right;\">\n",
       "      <th></th>\n",
       "      <th>user</th>\n",
       "      <th>movie</th>\n",
       "      <th>rating</th>\n",
       "      <th>timestamp</th>\n",
       "      <th>month</th>\n",
       "      <th>day</th>\n",
       "    </tr>\n",
       "  </thead>\n",
       "  <tbody>\n",
       "    <tr>\n",
       "      <th>3862</th>\n",
       "      <td>1642</td>\n",
       "      <td>2907</td>\n",
       "      <td>4</td>\n",
       "      <td>1011843582</td>\n",
       "      <td>17</td>\n",
       "      <td>638</td>\n",
       "    </tr>\n",
       "    <tr>\n",
       "      <th>4019</th>\n",
       "      <td>1646</td>\n",
       "      <td>2271</td>\n",
       "      <td>3</td>\n",
       "      <td>1045482665</td>\n",
       "      <td>30</td>\n",
       "      <td>1027</td>\n",
       "    </tr>\n",
       "    <tr>\n",
       "      <th>3904</th>\n",
       "      <td>1642</td>\n",
       "      <td>2280</td>\n",
       "      <td>4</td>\n",
       "      <td>1011840937</td>\n",
       "      <td>17</td>\n",
       "      <td>638</td>\n",
       "    </tr>\n",
       "    <tr>\n",
       "      <th>9105</th>\n",
       "      <td>3413</td>\n",
       "      <td>3684</td>\n",
       "      <td>4</td>\n",
       "      <td>975443359</td>\n",
       "      <td>3</td>\n",
       "      <td>216</td>\n",
       "    </tr>\n",
       "    <tr>\n",
       "      <th>10391</th>\n",
       "      <td>3969</td>\n",
       "      <td>2595</td>\n",
       "      <td>4</td>\n",
       "      <td>1019228570</td>\n",
       "      <td>20</td>\n",
       "      <td>723</td>\n",
       "    </tr>\n",
       "  </tbody>\n",
       "</table>\n",
       "</div>"
      ],
      "text/plain": [
       "       user  movie  rating   timestamp  month   day\n",
       "3862   1642   2907       4  1011843582     17   638\n",
       "4019   1646   2271       3  1045482665     30  1027\n",
       "3904   1642   2280       4  1011840937     17   638\n",
       "9105   3413   3684       4   975443359      3   216\n",
       "10391  3969   2595       4  1019228570     20   723"
      ]
     },
     "execution_count": 15,
     "metadata": {},
     "output_type": "execute_result"
    }
   ],
   "source": [
    "test.head()"
   ]
  },
  {
   "cell_type": "code",
   "execution_count": 21,
   "metadata": {},
   "outputs": [
    {
     "name": "stdout",
     "output_type": "stream",
     "text": [
      "aucs: 0.7986\n"
     ]
    }
   ],
   "source": [
    "aucs = []\n",
    "batch_size = 256\n",
    "batche_num = len(test)//batch_size\n",
    "count = 0\n",
    "u_batches = []\n",
    "i_batches = []\n",
    "labels = []\n",
    "predictions = []\n",
    "def predict(a,b):\n",
    "    user_factor = model.user_factors[a].reshape((1,16))\n",
    "    item_factors = model.item_factors[b]\n",
    "    prediction = np.dot(user_factor, item_factors.transpose())\n",
    "    return prediction\n",
    "for u,i in test[['user', 'movie']].values:\n",
    "    user_hist = train[train.user==u].movie.values\n",
    "    predictions.append(predict(u,i))\n",
    "    labels.append(1)\n",
    "    neg_i = np.random.choice(item_list)\n",
    "    while neg_i in user_hist:\n",
    "        neg_i = np.random.choice(item_list)\n",
    "    predictions.append(predict(u,neg_i))\n",
    "    labels.append(0)\n",
    "\n",
    "for batch_i in range(batche_num):\n",
    "    auc = roc_auc_score(labels[batch_i*batch_size:(batch_i+1)*batch_size],predictions[batch_i*batch_size:(batch_i+1)*batch_size])\n",
    "    aucs.append(auc)\n",
    "auc = np.mean(aucs)\n",
    "print('aucs: %.4f'%auc)"
   ]
  },
  {
   "cell_type": "code",
   "execution_count": 23,
   "metadata": {},
   "outputs": [
    {
     "data": {
      "text/plain": [
       "[(array([0.07767198], dtype=float32), 1),\n",
       " (array([0.06633984], dtype=float32), 0),\n",
       " (array([0.4540145], dtype=float32), 1),\n",
       " (array([0.6101998], dtype=float32), 0),\n",
       " (array([0.0105827], dtype=float32), 1),\n",
       " (array([0.00209082], dtype=float32), 0),\n",
       " (array([0.5494294], dtype=float32), 1),\n",
       " (array([0.089223], dtype=float32), 0),\n",
       " (array([0.0393864], dtype=float32), 1),\n",
       " (array([0.00152138], dtype=float32), 0)]"
      ]
     },
     "execution_count": 23,
     "metadata": {},
     "output_type": "execute_result"
    }
   ],
   "source": [
    "list(zip(predictions, labels))[:10]"
   ]
  },
  {
   "cell_type": "code",
   "execution_count": 27,
   "metadata": {},
   "outputs": [
    {
     "data": {
      "text/plain": [
       "0.800895140848746"
      ]
     },
     "execution_count": 27,
     "metadata": {},
     "output_type": "execute_result"
    }
   ],
   "source": [
    "roc_auc_score(labels, predictions)"
   ]
  },
  {
   "cell_type": "code",
   "execution_count": null,
   "metadata": {},
   "outputs": [],
   "source": []
  },
  {
   "cell_type": "code",
   "execution_count": null,
   "metadata": {},
   "outputs": [],
   "source": []
  },
  {
   "cell_type": "code",
   "execution_count": 10,
   "metadata": {},
   "outputs": [
    {
     "data": {
      "text/plain": [
       "0.25"
      ]
     },
     "execution_count": 10,
     "metadata": {},
     "output_type": "execute_result"
    }
   ],
   "source": [
    "roc_auc_score(labels, predictions)"
   ]
  },
  {
   "cell_type": "code",
   "execution_count": 24,
   "metadata": {},
   "outputs": [
    {
     "data": {
      "text/html": [
       "<div>\n",
       "<table border=\"1\" class=\"dataframe\">\n",
       "  <thead>\n",
       "    <tr style=\"text-align: right;\">\n",
       "      <th></th>\n",
       "      <th>user</th>\n",
       "      <th>movie</th>\n",
       "      <th>rating</th>\n",
       "      <th>timestamp</th>\n",
       "      <th>month</th>\n",
       "      <th>day</th>\n",
       "    </tr>\n",
       "  </thead>\n",
       "  <tbody>\n",
       "    <tr>\n",
       "      <th>3862</th>\n",
       "      <td>1642</td>\n",
       "      <td>2907</td>\n",
       "      <td>4</td>\n",
       "      <td>1011843582</td>\n",
       "      <td>17</td>\n",
       "      <td>638</td>\n",
       "    </tr>\n",
       "    <tr>\n",
       "      <th>4019</th>\n",
       "      <td>1646</td>\n",
       "      <td>2271</td>\n",
       "      <td>3</td>\n",
       "      <td>1045482665</td>\n",
       "      <td>30</td>\n",
       "      <td>1027</td>\n",
       "    </tr>\n",
       "    <tr>\n",
       "      <th>3904</th>\n",
       "      <td>1642</td>\n",
       "      <td>2280</td>\n",
       "      <td>4</td>\n",
       "      <td>1011840937</td>\n",
       "      <td>17</td>\n",
       "      <td>638</td>\n",
       "    </tr>\n",
       "    <tr>\n",
       "      <th>9105</th>\n",
       "      <td>3413</td>\n",
       "      <td>3684</td>\n",
       "      <td>4</td>\n",
       "      <td>975443359</td>\n",
       "      <td>3</td>\n",
       "      <td>216</td>\n",
       "    </tr>\n",
       "    <tr>\n",
       "      <th>10391</th>\n",
       "      <td>3969</td>\n",
       "      <td>2595</td>\n",
       "      <td>4</td>\n",
       "      <td>1019228570</td>\n",
       "      <td>20</td>\n",
       "      <td>723</td>\n",
       "    </tr>\n",
       "    <tr>\n",
       "      <th>10223</th>\n",
       "      <td>3884</td>\n",
       "      <td>1313</td>\n",
       "      <td>4</td>\n",
       "      <td>973715729</td>\n",
       "      <td>3</td>\n",
       "      <td>196</td>\n",
       "    </tr>\n",
       "  </tbody>\n",
       "</table>\n",
       "</div>"
      ],
      "text/plain": [
       "       user  movie  rating   timestamp  month   day\n",
       "3862   1642   2907       4  1011843582     17   638\n",
       "4019   1646   2271       3  1045482665     30  1027\n",
       "3904   1642   2280       4  1011840937     17   638\n",
       "9105   3413   3684       4   975443359      3   216\n",
       "10391  3969   2595       4  1019228570     20   723\n",
       "10223  3884   1313       4   973715729      3   196"
      ]
     },
     "execution_count": 24,
     "metadata": {},
     "output_type": "execute_result"
    }
   ],
   "source": [
    "test[:6]"
   ]
  },
  {
   "cell_type": "code",
   "execution_count": 26,
   "metadata": {},
   "outputs": [
    {
     "data": {
      "text/plain": [
       "False"
      ]
     },
     "execution_count": 26,
     "metadata": {},
     "output_type": "execute_result"
    }
   ],
   "source": [
    "2907 in train[train.user==1642].movie.values"
   ]
  },
  {
   "cell_type": "code",
   "execution_count": null,
   "metadata": {},
   "outputs": [],
   "source": []
  }
 ],
 "metadata": {
  "kernelspec": {
   "display_name": "Python 3",
   "language": "python",
   "name": "python3"
  },
  "language_info": {
   "codemirror_mode": {
    "name": "ipython",
    "version": 3
   },
   "file_extension": ".py",
   "mimetype": "text/x-python",
   "name": "python",
   "nbconvert_exporter": "python",
   "pygments_lexer": "ipython3",
   "version": "3.6.6"
  }
 },
 "nbformat": 4,
 "nbformat_minor": 2
}
