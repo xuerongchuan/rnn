{
 "cells": [
  {
   "cell_type": "code",
   "execution_count": 3,
   "metadata": {
    "scrolled": true
   },
   "outputs": [
    {
     "name": "stdout",
     "output_type": "stream",
     "text": [
      "config: lr:0.010000, loss:log_loss, opt:adam, activation:tanh, embedding_size:32, cell:gru\n"
     ]
    }
   ],
   "source": [
    "from config import Config\n",
    "from rnnRS import RnnRs\n",
    "from mreader import Dataloader\n",
    "\n",
    "test= 1\n",
    "config = Config()\n",
    "# if test:\n",
    "# \tconfig.data_path = '../data/ml-1m/sample.csv'\n",
    "# \tconfig.num_users = 50\n",
    "\n",
    "dl = Dataloader(config)"
   ]
  },
  {
   "cell_type": "code",
   "execution_count": 7,
   "metadata": {},
   "outputs": [],
   "source": [
    "test_all  = dl.getTrainBatches()"
   ]
  },
  {
   "cell_type": "code",
   "execution_count": 8,
   "metadata": {},
   "outputs": [],
   "source": [
    "batch1 = next(test_all)"
   ]
  },
  {
   "cell_type": "code",
   "execution_count": 9,
   "metadata": {},
   "outputs": [
    {
     "data": {
      "text/plain": [
       "array([[ 724, 1349, 1196, ..., 1732,  163,  453],\n",
       "       [ 896,  431,  194, ..., 3883, 3883, 3883],\n",
       "       [ 896,  431,  194, ..., 3883, 3883, 3883],\n",
       "       ...,\n",
       "       [ 896,  431,  194, ..., 3883, 3883, 3883],\n",
       "       [ 896,  431,  194, ..., 3883, 3883, 3883],\n",
       "       [ 896,  431,  194, ..., 3883, 3883, 3883]])"
      ]
     },
     "execution_count": 9,
     "metadata": {},
     "output_type": "execute_result"
    }
   ],
   "source": [
    "np.array(batch1[1])"
   ]
  },
  {
   "cell_type": "code",
   "execution_count": 2,
   "metadata": {},
   "outputs": [],
   "source": [
    "train = []\n",
    "for i in dl.getTrainShuffleBatches():\n",
    "    train.append(i)"
   ]
  },
  {
   "cell_type": "code",
   "execution_count": 5,
   "metadata": {},
   "outputs": [],
   "source": [
    "import numpy as np"
   ]
  },
  {
   "cell_type": "code",
   "execution_count": 11,
   "metadata": {},
   "outputs": [
    {
     "data": {
      "text/plain": [
       "array([list([1627, 534, 1388, 3177, 1104, 159, 504, 502, 2255, 2373, 3078, 1771, 520]),\n",
       "       list([1627, 534, 1388, 3177, 1104, 159, 504, 502, 2255, 2373, 3078, 1771, 520]),\n",
       "       list([1627, 534, 1388, 3177, 1104, 159, 504, 502, 2255, 2373, 3078, 1771, 520]),\n",
       "       ...,\n",
       "       list([1706, 1498, 1553, 1816, 2290, 1482, 15, 3031, 2847, 1371, 1568, 1695, 493, 1439, 2315, 1683, 1989, 148, 1672]),\n",
       "       list([1706, 1498, 1553, 1816, 2290, 1482, 15, 3031, 2847, 1371, 1568, 1695, 493, 1439, 2315, 1683, 1989, 148, 1672]),\n",
       "       list([1706, 1498, 1553, 1816, 2290, 1482, 15, 3031, 2847, 1371, 1568, 1695, 493, 1439, 2315, 1683, 1989, 148, 1672])],\n",
       "      dtype=object)"
      ]
     },
     "execution_count": 11,
     "metadata": {},
     "output_type": "execute_result"
    }
   ],
   "source": [
    "np.array(train[0][0])"
   ]
  },
  {
   "cell_type": "code",
   "execution_count": 5,
   "metadata": {},
   "outputs": [],
   "source": [
    "train = []\n",
    "for i in dl.getTrainBatches():\n",
    "    train.append(i)"
   ]
  },
  {
   "cell_type": "code",
   "execution_count": 3,
   "metadata": {},
   "outputs": [],
   "source": [
    "test = []\n",
    "for i in dl.getTestBatches():\n",
    "    test.append(i)"
   ]
  },
  {
   "cell_type": "code",
   "execution_count": 1,
   "metadata": {},
   "outputs": [],
   "source": [
    "import tensorflow as tf;\n",
    "import numpy as np;\n",
    " "
   ]
  },
  {
   "cell_type": "code",
   "execution_count": null,
   "metadata": {},
   "outputs": [],
   "source": [
    "X = np.random.randn(3, 6, 4)\n",
    "rnn_type = 'lstm'\n",
    "# 第二个输入的实际长度为4\n",
    "X[1, 4:] = 0\n",
    "\n",
    "#记录三个输入的实际步长\n",
    "X_lengths = [6, 4, 6]\n",
    "\n",
    "rnn_hidden_size = 5\n",
    "if rnn_type == 'lstm':\n",
    "    cell = tf.contrib.rnn.BasicLSTMCell(num_units=rnn_hidden_size, state_is_tuple=True)\n",
    "else:\n",
    "    cell = tf.contrib.rnn.GRUCell(num_units=rnn_hidden_size)\n",
    "\n",
    "outputs, last_states = tf.nn.dynamic_rnn(\n",
    "    cell=cell,\n",
    "    dtype=tf.float64,\n",
    "    sequence_length=X_lengths,\n",
    "    inputs=X)"
   ]
  },
  {
   "cell_type": "code",
   "execution_count": 3,
   "metadata": {},
   "outputs": [],
   "source": [
    "def gather_last_output(data, seq_lens):\n",
    "        '''用来获取rnn输出序列的最后输出结果'''\n",
    "        this_range = tf.range(tf.cast(tf.shape(seq_lens)[0], dtype=tf.int64), dtype = tf.int64)\n",
    "        indices = tf.stack([this_range, np.array(seq_lens)-1], axis=1)\n",
    "        return tf.gather_nd(data, indices)\n",
    "out_put = gather_last_output(outputs, X_lengths)"
   ]
  },
  {
   "cell_type": "code",
   "execution_count": 5,
   "metadata": {},
   "outputs": [
    {
     "name": "stdout",
     "output_type": "stream",
     "text": [
      "(3, 6, 5)\n",
      "[[[-1.04650776e-01 -3.35908266e-02  5.10188693e-02 -2.79914988e-02\n",
      "   -2.57283659e-02]\n",
      "  [-1.17698923e-01  3.91625343e-02  1.26528886e-01 -4.98791106e-02\n",
      "   -7.24378788e-03]\n",
      "  [-8.11119157e-02 -1.18526980e-02  2.12907299e-02  1.04759136e-01\n",
      "   -6.12406156e-02]\n",
      "  [-1.48268905e-01 -6.34600974e-02 -3.62007282e-02  5.66828847e-02\n",
      "   -7.08497608e-02]\n",
      "  [-2.06373973e-01 -8.45586946e-02 -2.09501632e-02 -2.25152738e-02\n",
      "   -6.65270274e-02]\n",
      "  [-3.32986174e-01 -1.58374356e-01 -6.85981883e-02  8.88617866e-02\n",
      "   -1.06354365e-01]]\n",
      "\n",
      " [[ 3.99756601e-02  1.21586071e-01  2.19176784e-01  2.08938119e-02\n",
      "    3.14751374e-02]\n",
      "  [ 2.39685788e-02  1.34205689e-01  3.14089151e-01 -8.06053793e-02\n",
      "    6.75090675e-02]\n",
      "  [ 9.76469628e-02  7.52505861e-02  3.01898946e-02 -6.16533725e-02\n",
      "    1.69872165e-01]\n",
      "  [-3.92020421e-02  4.82826501e-02 -3.65797965e-02  6.57155366e-02\n",
      "   -3.29473044e-03]\n",
      "  [ 0.00000000e+00  0.00000000e+00  0.00000000e+00  0.00000000e+00\n",
      "    0.00000000e+00]\n",
      "  [ 0.00000000e+00  0.00000000e+00  0.00000000e+00  0.00000000e+00\n",
      "    0.00000000e+00]]\n",
      "\n",
      " [[-1.27385379e-02 -2.53602461e-04 -7.65612256e-02  1.29676304e-01\n",
      "   -1.53093311e-01]\n",
      "  [-3.49864934e-03  1.51062655e-01  1.65617586e-03 -9.68210326e-03\n",
      "   -2.70284721e-02]\n",
      "  [-1.09560181e-01  1.68204759e-01  8.44961228e-02 -7.72113843e-02\n",
      "   -3.51422209e-02]\n",
      "  [-8.13713764e-02  2.42094424e-01  1.58349752e-01 -1.39065253e-01\n",
      "    8.90471873e-02]\n",
      "  [ 1.17219024e-01  3.15353675e-01  3.87697208e-01 -1.32872793e-01\n",
      "    2.96795528e-01]\n",
      "  [ 2.65005978e-01  1.90035286e-01  1.27809574e-01 -2.62329302e-01\n",
      "    3.24380119e-01]]]\n",
      "(3, 5)\n",
      "[[-0.33298617 -0.15837436 -0.06859819  0.08886179 -0.10635436]\n",
      " [-0.03920204  0.04828265 -0.0365798   0.06571554 -0.00329473]\n",
      " [ 0.26500598  0.19003529  0.12780957 -0.2623293   0.32438012]]\n",
      "(2, 3, 5)\n",
      "LSTMStateTuple(c=array([[-0.64063275, -0.29171205, -0.1993307 ,  0.13175077, -0.21496796],\n",
      "       [-0.07261463,  0.11093705, -0.09257692,  0.10744952, -0.00489464],\n",
      "       [ 0.62880106,  0.62107598,  0.19080577, -0.74667127,  1.28158301]]), h=array([[-0.33298617, -0.15837436, -0.06859819,  0.08886179, -0.10635436],\n",
      "       [-0.03920204,  0.04828265, -0.0365798 ,  0.06571554, -0.00329473],\n",
      "       [ 0.26500598,  0.19003529,  0.12780957, -0.2623293 ,  0.32438012]]))\n"
     ]
    }
   ],
   "source": [
    "with tf.Session() as session:\n",
    "    session.run(tf.global_variables_initializer())\n",
    "    o1, o2, s1 = session.run([outputs, out_put, last_states])\n",
    "    print(np.shape(o1))\n",
    "    print(o1)\n",
    "    print(np.shape(o2))\n",
    "    print(o2)\n",
    "    print(np.shape(s1))\n",
    "    print(s1)"
   ]
  },
  {
   "cell_type": "code",
   "execution_count": null,
   "metadata": {},
   "outputs": [],
   "source": [
    "def attn(hidden, encoder_outputs):\n",
    "\t# hidden: B * D\n",
    "\t# encoder_outputs: B * S * D\n",
    "\tattn_weights = tf.matmul(encoder_outputs, tf.expand_dims(hidden, 2))\n",
    "\t# attn_weights: B * S * 1\n",
    "\tcontext = tf.squeeze(tf.matmul(tf.transpose(encoder_outputs, [0,2,1]), attn_weights))\n",
    "\t# context: B * D\n",
    "\treturn context"
   ]
  },
  {
   "cell_type": "code",
   "execution_count": 7,
   "metadata": {},
   "outputs": [
    {
     "data": {
      "text/plain": [
       "<tf.Tensor 'transpose:0' shape=(3, 4, 6) dtype=float64>"
      ]
     },
     "execution_count": 7,
     "metadata": {},
     "output_type": "execute_result"
    }
   ],
   "source": [
    "tf.transpose(X, [0,2,1])"
   ]
  },
  {
   "cell_type": "code",
   "execution_count": 1,
   "metadata": {},
   "outputs": [],
   "source": [
    "import pandas as pd"
   ]
  },
  {
   "cell_type": "code",
   "execution_count": 2,
   "metadata": {},
   "outputs": [],
   "source": [
    "data = pd.read_csv('../data/ml-1m/rating.csv')"
   ]
  },
  {
   "cell_type": "code",
   "execution_count": 3,
   "metadata": {},
   "outputs": [
    {
     "data": {
      "text/html": [
       "<div>\n",
       "<table border=\"1\" class=\"dataframe\">\n",
       "  <thead>\n",
       "    <tr style=\"text-align: right;\">\n",
       "      <th></th>\n",
       "      <th>user</th>\n",
       "      <th>movie</th>\n",
       "      <th>rating</th>\n",
       "      <th>timestamp</th>\n",
       "      <th>month</th>\n",
       "      <th>day</th>\n",
       "    </tr>\n",
       "  </thead>\n",
       "  <tbody>\n",
       "    <tr>\n",
       "      <th>0</th>\n",
       "      <td>0</td>\n",
       "      <td>1176</td>\n",
       "      <td>5</td>\n",
       "      <td>978300760</td>\n",
       "      <td>5</td>\n",
       "      <td>249</td>\n",
       "    </tr>\n",
       "    <tr>\n",
       "      <th>1</th>\n",
       "      <td>0</td>\n",
       "      <td>655</td>\n",
       "      <td>3</td>\n",
       "      <td>978302109</td>\n",
       "      <td>5</td>\n",
       "      <td>249</td>\n",
       "    </tr>\n",
       "    <tr>\n",
       "      <th>2</th>\n",
       "      <td>0</td>\n",
       "      <td>902</td>\n",
       "      <td>3</td>\n",
       "      <td>978301968</td>\n",
       "      <td>5</td>\n",
       "      <td>249</td>\n",
       "    </tr>\n",
       "    <tr>\n",
       "      <th>3</th>\n",
       "      <td>0</td>\n",
       "      <td>3339</td>\n",
       "      <td>4</td>\n",
       "      <td>978300275</td>\n",
       "      <td>5</td>\n",
       "      <td>249</td>\n",
       "    </tr>\n",
       "    <tr>\n",
       "      <th>4</th>\n",
       "      <td>0</td>\n",
       "      <td>2286</td>\n",
       "      <td>5</td>\n",
       "      <td>978824291</td>\n",
       "      <td>5</td>\n",
       "      <td>256</td>\n",
       "    </tr>\n",
       "  </tbody>\n",
       "</table>\n",
       "</div>"
      ],
      "text/plain": [
       "   user  movie  rating  timestamp  month  day\n",
       "0     0   1176       5  978300760      5  249\n",
       "1     0    655       3  978302109      5  249\n",
       "2     0    902       3  978301968      5  249\n",
       "3     0   3339       4  978300275      5  249\n",
       "4     0   2286       5  978824291      5  256"
      ]
     },
     "execution_count": 3,
     "metadata": {},
     "output_type": "execute_result"
    }
   ],
   "source": [
    "data.head()"
   ]
  },
  {
   "cell_type": "markdown",
   "metadata": {},
   "source": [
    "### 用户周期，大于三个月的用户总数"
   ]
  },
  {
   "cell_type": "code",
   "execution_count": 4,
   "metadata": {},
   "outputs": [],
   "source": [
    "u_list = []\n",
    "for u in range(6040):\n",
    "    udata = data[data.user == u].sort_values(by=['month'])\n",
    "    month_list = udata.month.unique()\n",
    "    if len(month_list) > 2:\n",
    "        u_list.append(u)\n",
    "    "
   ]
  },
  {
   "cell_type": "code",
   "execution_count": 5,
   "metadata": {},
   "outputs": [],
   "source": [
    "data = data[data.user.isin(u_list)]"
   ]
  },
  {
   "cell_type": "code",
   "execution_count": 6,
   "metadata": {},
   "outputs": [
    {
     "data": {
      "text/plain": [
       "926"
      ]
     },
     "execution_count": 6,
     "metadata": {},
     "output_type": "execute_result"
    }
   ],
   "source": [
    "len(u_list)"
   ]
  },
  {
   "cell_type": "code",
   "execution_count": 7,
   "metadata": {},
   "outputs": [
    {
     "data": {
      "text/plain": [
       "3559"
      ]
     },
     "execution_count": 7,
     "metadata": {},
     "output_type": "execute_result"
    }
   ],
   "source": [
    "len(data.movie.unique())"
   ]
  },
  {
   "cell_type": "markdown",
   "metadata": {},
   "source": [
    "926个用户和3559个商品! "
   ]
  },
  {
   "cell_type": "code",
   "execution_count": 8,
   "metadata": {},
   "outputs": [],
   "source": [
    "import numpy as np"
   ]
  },
  {
   "cell_type": "markdown",
   "metadata": {},
   "source": [
    "划分训练集与测试集\n",
    "1. 清洗用户，每个用户知道有3个月时间长度的数据\n",
    "2. 最后一个月的数据作为测试数据"
   ]
  },
  {
   "cell_type": "code",
   "execution_count": 9,
   "metadata": {},
   "outputs": [],
   "source": [
    "train = []\n",
    "test = []\n",
    "for u in u_list:\n",
    "    udata = data[data.user == u].sort_values(by=['month'])\n",
    "    month_list = list(udata.month.unique())\n",
    "    test_month = month_list.pop()\n",
    "    test_data = udata[udata.month==test_month]\n",
    "    test.append(test_data)\n",
    "    train_data = udata[udata.month.isin(month_list)]\n",
    "    train.append(train_data)\n",
    "train = pd.concat(train)\n",
    "test = pd.concat(test)"
   ]
  },
  {
   "cell_type": "code",
   "execution_count": 10,
   "metadata": {},
   "outputs": [],
   "source": [
    "train.to_csv('train_month.csv', index=None)\n",
    "test.to_csv('test_month.csv', index=None)"
   ]
  },
  {
   "cell_type": "code",
   "execution_count": 22,
   "metadata": {},
   "outputs": [],
   "source": [
    "input_batches = []\n",
    "u_batches = []\n",
    "item_batches = []\n",
    "len_batches = []\n",
    "label_batches = []\n",
    "input_batches_test = []\n",
    "u_batches_test = []\n",
    "item_batches_test = []\n",
    "len_batches_test = []\n",
    "label_batches_test = []\n",
    "for u in u_list:\n",
    "    udata = data[data.user == u].sort_values(by=['month'])\n",
    "    month_list = list(udata.month.unique())\n",
    "    test_month = month_list.pop()\n",
    "    test_data = udata[udata.month==test_month]\n",
    "    for i in range(len(month_list)-1):\n",
    "        input_data = list(udata[udata.month==month_list[i]].movie.values)[:20]\n",
    "        len_data = len(input_data)\n",
    "        if len_data < 20:\n",
    "            input_data += [3883]*(20-len_data)\n",
    "        item_data = udata[udata.month==month_list[i+1]]\n",
    "        negs = list(data[data.month == month_list[i+1]].movie.values)\n",
    "        for item in item_data.movie.values:\n",
    "            u_batches.append(u)\n",
    "            input_batches.append(list(input_data))\n",
    "            item_batches.append(item)\n",
    "            len_batches.append(len_data)\n",
    "            label_batches.append(1)\n",
    "            neg_item = np.random.choice(negs)\n",
    "            while neg_item not in udata.movie.values:\n",
    "                neg_item = np.random.choice(negs)\n",
    "            u_batches.append(u)\n",
    "            input_batches.append(list(input_data))\n",
    "            item_batches.append(neg_item)\n",
    "            len_batches.append(len_data)\n",
    "            label_batches.append(0)\n",
    "    input_data = list(udata[udata.month==month_list[-1]].movie.values)[:20]\n",
    "    len_data = len(input_data)\n",
    "    if len_data < 20:\n",
    "        input_data += [3883]*(20-len_data)\n",
    "    negs = list(data[data.month == test_month].movie.values)\n",
    "    for item in test_data.movie.values:\n",
    "        u_batches_test.append(u)\n",
    "        input_batches_test.append(list(input_data))\n",
    "        item_batches_test.append(item)\n",
    "        len_batches_test.append(len_data)\n",
    "        label_batches_test.append(1)\n",
    "        neg_item = np.random.choice(negs)\n",
    "        while neg_item not in udata.movie.values:\n",
    "            neg_item = np.random.choice(negs)\n",
    "        u_batches_test.append(u)\n",
    "        input_batches_test.append(list(input_data))\n",
    "        item_batches_test.append(neg_item)\n",
    "        len_batches_test.append(len_data)\n",
    "        label_batches_test.append(0)"
   ]
  },
  {
   "cell_type": "code",
   "execution_count": 23,
   "metadata": {},
   "outputs": [],
   "source": [
    "test_batches = list(zip(u_batches_test, input_batches_test, item_batches_test, len_batches_test, label_batches))"
   ]
  },
  {
   "cell_type": "code",
   "execution_count": 24,
   "metadata": {},
   "outputs": [],
   "source": [
    "train_batches = list(zip(u_batches, input_batches, item_batches, len_batches, label_batches))"
   ]
  },
  {
   "cell_type": "code",
   "execution_count": 6,
   "metadata": {},
   "outputs": [],
   "source": [
    "test = []\n",
    "train = []\n",
    "for month in range(31):\n",
    "    mdata = data[data.month==month]\n",
    "    u_list = mdata.user.unique()\n",
    "    for u in u_list:\n",
    "        udata = mdata[mdata.user==u].sort_values(by=['timestamp'])\n",
    "        neg_data = mdata[mdata.user!=u].values\n",
    "        negs = np.random.choice(neg_data, 5)\n",
    "        if len(udata) >1:\n",
    "            train_data = u, list(udata.movie.values)[:-1],1\n",
    "            test_data = u, list(udata.movie.values)[:-1],udata.movie.values[-1],1\n",
    "            train.append(train_data)\n",
    "            test.append(test_data)\n",
    "            for neg_i in negs:\n",
    "                train_data = u, list(udata.movie.values)[:-1],0\n",
    "            "
   ]
  },
  {
   "cell_type": "code",
   "execution_count": 7,
   "metadata": {},
   "outputs": [],
   "source": [
    "import numpy as np"
   ]
  },
  {
   "cell_type": "code",
   "execution_count": 25,
   "metadata": {},
   "outputs": [],
   "source": [
    "import json\n",
    "def default(o):\n",
    "    if isinstance(o, np.int64): return int(o)  \n",
    "    raise TypeError\n",
    "with open('train' ,'a') as f:\n",
    "    for line in train_batches:\n",
    "        linestr = json.dumps(line, default=default)\n",
    "        f.write(linestr)\n",
    "        f.write('\\n')"
   ]
  },
  {
   "cell_type": "code",
   "execution_count": 26,
   "metadata": {},
   "outputs": [],
   "source": [
    "def default(o):\n",
    "    if isinstance(o, np.int64): return int(o)  \n",
    "    raise TypeError\n",
    "with open('test' ,'a') as f:\n",
    "    for line in test_batches:\n",
    "        linestr = json.dumps(line, default=default)\n",
    "        f.write(linestr)\n",
    "        f.write('\\n')"
   ]
  },
  {
   "cell_type": "code",
   "execution_count": 1,
   "metadata": {},
   "outputs": [],
   "source": [
    "import numpy as np"
   ]
  },
  {
   "cell_type": "code",
   "execution_count": 2,
   "metadata": {},
   "outputs": [
    {
     "data": {
      "text/plain": [
       "array([0, 1, 0])"
      ]
     },
     "execution_count": 2,
     "metadata": {},
     "output_type": "execute_result"
    }
   ],
   "source": [
    "a = np.array([0,1,1])\n",
    "b = np.array([0,1,0])\n",
    "a*b"
   ]
  },
  {
   "cell_type": "code",
   "execution_count": 8,
   "metadata": {},
   "outputs": [],
   "source": [
    "with open('../data/ml-1m/train') as f:\n",
    "    data = ''\n",
    "    for i in range(50*1000):\n",
    "        data += f.readline()\n",
    "with open('../data/ml-1m/train2', 'w') as f:\n",
    "    f.write(data)\n",
    "        "
   ]
  },
  {
   "cell_type": "code",
   "execution_count": 17,
   "metadata": {},
   "outputs": [],
   "source": [
    "import json"
   ]
  },
  {
   "cell_type": "code",
   "execution_count": 20,
   "metadata": {},
   "outputs": [
    {
     "name": "stdout",
     "output_type": "stream",
     "text": [
      "<class 'list'>\n"
     ]
    }
   ],
   "source": [
    "with open('../data/ml-1m/train', 'r') as f:\n",
    "    print(type(json.loads(f.readline())))"
   ]
  },
  {
   "cell_type": "code",
   "execution_count": null,
   "metadata": {},
   "outputs": [],
   "source": []
  }
 ],
 "metadata": {
  "kernelspec": {
   "display_name": "Python 3",
   "language": "python",
   "name": "python3"
  },
  "language_info": {
   "codemirror_mode": {
    "name": "ipython",
    "version": 3
   },
   "file_extension": ".py",
   "mimetype": "text/x-python",
   "name": "python",
   "nbconvert_exporter": "python",
   "pygments_lexer": "ipython3",
   "version": "3.6.6"
  }
 },
 "nbformat": 4,
 "nbformat_minor": 2
}
