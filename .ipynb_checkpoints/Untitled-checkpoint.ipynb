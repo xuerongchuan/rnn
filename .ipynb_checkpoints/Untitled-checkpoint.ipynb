{
 "cells": [
  {
   "cell_type": "code",
   "execution_count": 1,
   "metadata": {},
   "outputs": [
    {
     "name": "stdout",
     "output_type": "stream",
     "text": [
      "config: lr:0.001000, loss:log_loss, opt:adadelta,activation:tanh, embedding_size:16\n",
      "loading data ...\n",
      "data has been already!!!!!\n"
     ]
    }
   ],
   "source": [
    "from config import Config\n",
    "from rnnRS import RnnRs\n",
    "from reader import Dataloader\n",
    "\n",
    "test= 1\n",
    "config = Config()\n",
    "if test:\n",
    "\tconfig.data_path = 'data/ml-1m/sample.csv'\n",
    "\tconfig.num_users = 50\n",
    "\n",
    "dl = Dataloader(config)"
   ]
  },
  {
   "cell_type": "code",
   "execution_count": 5,
   "metadata": {},
   "outputs": [],
   "source": [
    "train = []\n",
    "for i in dl.getTrainBatches():\n",
    "    train.append(i)"
   ]
  },
  {
   "cell_type": "code",
   "execution_count": 3,
   "metadata": {},
   "outputs": [],
   "source": [
    "test = []\n",
    "for i in dl.getTestBatches():\n",
    "    test.append(i)"
   ]
  },
  {
   "cell_type": "code",
   "execution_count": 1,
   "metadata": {},
   "outputs": [],
   "source": [
    "import tensorflow as tf;\n",
    "import numpy as np;\n",
    " "
   ]
  },
  {
   "cell_type": "code",
   "execution_count": null,
   "metadata": {},
   "outputs": [],
   "source": [
    "X = np.random.randn(3, 6, 4)\n",
    "rnn_type = 'lstm'\n",
    "# 第二个输入的实际长度为4\n",
    "X[1, 4:] = 0\n",
    "\n",
    "#记录三个输入的实际步长\n",
    "X_lengths = [6, 4, 6]\n",
    "\n",
    "rnn_hidden_size = 5\n",
    "if rnn_type == 'lstm':\n",
    "    cell = tf.contrib.rnn.BasicLSTMCell(num_units=rnn_hidden_size, state_is_tuple=True)\n",
    "else:\n",
    "    cell = tf.contrib.rnn.GRUCell(num_units=rnn_hidden_size)\n",
    "\n",
    "outputs, last_states = tf.nn.dynamic_rnn(\n",
    "    cell=cell,\n",
    "    dtype=tf.float64,\n",
    "    sequence_length=X_lengths,\n",
    "    inputs=X)"
   ]
  },
  {
   "cell_type": "code",
   "execution_count": 3,
   "metadata": {},
   "outputs": [],
   "source": [
    "def gather_last_output(data, seq_lens):\n",
    "        '''用来获取rnn输出序列的最后输出结果'''\n",
    "        this_range = tf.range(tf.cast(tf.shape(seq_lens)[0], dtype=tf.int64), dtype = tf.int64)\n",
    "        indices = tf.stack([this_range, np.array(seq_lens)-1], axis=1)\n",
    "        return tf.gather_nd(data, indices)\n",
    "out_put = gather_last_output(outputs, X_lengths)"
   ]
  },
  {
   "cell_type": "code",
   "execution_count": 5,
   "metadata": {},
   "outputs": [
    {
     "name": "stdout",
     "output_type": "stream",
     "text": [
      "(3, 6, 5)\n",
      "[[[-1.04650776e-01 -3.35908266e-02  5.10188693e-02 -2.79914988e-02\n",
      "   -2.57283659e-02]\n",
      "  [-1.17698923e-01  3.91625343e-02  1.26528886e-01 -4.98791106e-02\n",
      "   -7.24378788e-03]\n",
      "  [-8.11119157e-02 -1.18526980e-02  2.12907299e-02  1.04759136e-01\n",
      "   -6.12406156e-02]\n",
      "  [-1.48268905e-01 -6.34600974e-02 -3.62007282e-02  5.66828847e-02\n",
      "   -7.08497608e-02]\n",
      "  [-2.06373973e-01 -8.45586946e-02 -2.09501632e-02 -2.25152738e-02\n",
      "   -6.65270274e-02]\n",
      "  [-3.32986174e-01 -1.58374356e-01 -6.85981883e-02  8.88617866e-02\n",
      "   -1.06354365e-01]]\n",
      "\n",
      " [[ 3.99756601e-02  1.21586071e-01  2.19176784e-01  2.08938119e-02\n",
      "    3.14751374e-02]\n",
      "  [ 2.39685788e-02  1.34205689e-01  3.14089151e-01 -8.06053793e-02\n",
      "    6.75090675e-02]\n",
      "  [ 9.76469628e-02  7.52505861e-02  3.01898946e-02 -6.16533725e-02\n",
      "    1.69872165e-01]\n",
      "  [-3.92020421e-02  4.82826501e-02 -3.65797965e-02  6.57155366e-02\n",
      "   -3.29473044e-03]\n",
      "  [ 0.00000000e+00  0.00000000e+00  0.00000000e+00  0.00000000e+00\n",
      "    0.00000000e+00]\n",
      "  [ 0.00000000e+00  0.00000000e+00  0.00000000e+00  0.00000000e+00\n",
      "    0.00000000e+00]]\n",
      "\n",
      " [[-1.27385379e-02 -2.53602461e-04 -7.65612256e-02  1.29676304e-01\n",
      "   -1.53093311e-01]\n",
      "  [-3.49864934e-03  1.51062655e-01  1.65617586e-03 -9.68210326e-03\n",
      "   -2.70284721e-02]\n",
      "  [-1.09560181e-01  1.68204759e-01  8.44961228e-02 -7.72113843e-02\n",
      "   -3.51422209e-02]\n",
      "  [-8.13713764e-02  2.42094424e-01  1.58349752e-01 -1.39065253e-01\n",
      "    8.90471873e-02]\n",
      "  [ 1.17219024e-01  3.15353675e-01  3.87697208e-01 -1.32872793e-01\n",
      "    2.96795528e-01]\n",
      "  [ 2.65005978e-01  1.90035286e-01  1.27809574e-01 -2.62329302e-01\n",
      "    3.24380119e-01]]]\n",
      "(3, 5)\n",
      "[[-0.33298617 -0.15837436 -0.06859819  0.08886179 -0.10635436]\n",
      " [-0.03920204  0.04828265 -0.0365798   0.06571554 -0.00329473]\n",
      " [ 0.26500598  0.19003529  0.12780957 -0.2623293   0.32438012]]\n",
      "(2, 3, 5)\n",
      "LSTMStateTuple(c=array([[-0.64063275, -0.29171205, -0.1993307 ,  0.13175077, -0.21496796],\n",
      "       [-0.07261463,  0.11093705, -0.09257692,  0.10744952, -0.00489464],\n",
      "       [ 0.62880106,  0.62107598,  0.19080577, -0.74667127,  1.28158301]]), h=array([[-0.33298617, -0.15837436, -0.06859819,  0.08886179, -0.10635436],\n",
      "       [-0.03920204,  0.04828265, -0.0365798 ,  0.06571554, -0.00329473],\n",
      "       [ 0.26500598,  0.19003529,  0.12780957, -0.2623293 ,  0.32438012]]))\n"
     ]
    }
   ],
   "source": [
    "with tf.Session() as session:\n",
    "    session.run(tf.global_variables_initializer())\n",
    "    o1, o2, s1 = session.run([outputs, out_put, last_states])\n",
    "    print(np.shape(o1))\n",
    "    print(o1)\n",
    "    print(np.shape(o2))\n",
    "    print(o2)\n",
    "    print(np.shape(s1))\n",
    "    print(s1)"
   ]
  },
  {
   "cell_type": "code",
   "execution_count": null,
   "metadata": {},
   "outputs": [],
   "source": [
    "def attn(hidden, encoder_outputs):\n",
    "\t# hidden: B * D\n",
    "\t# encoder_outputs: B * S * D\n",
    "\tattn_weights = tf.matmul(encoder_outputs, tf.expand_dims(hidden, 2))\n",
    "\t# attn_weights: B * S * 1\n",
    "\tcontext = tf.squeeze(tf.matmul(tf.transpose(encoder_outputs, [0,2,1]), attn_weights))\n",
    "\t# context: B * D\n",
    "\treturn context"
   ]
  },
  {
   "cell_type": "code",
   "execution_count": 6,
   "metadata": {},
   "outputs": [
    {
     "data": {
      "text/plain": [
       "(3, 6, 4)"
      ]
     },
     "execution_count": 6,
     "metadata": {},
     "output_type": "execute_result"
    }
   ],
   "source": [
    "X.shape"
   ]
  },
  {
   "cell_type": "code",
   "execution_count": 7,
   "metadata": {},
   "outputs": [
    {
     "data": {
      "text/plain": [
       "<tf.Tensor 'transpose:0' shape=(3, 4, 6) dtype=float64>"
      ]
     },
     "execution_count": 7,
     "metadata": {},
     "output_type": "execute_result"
    }
   ],
   "source": [
    "tf.transpose(X, [0,2,1])"
   ]
  },
  {
   "cell_type": "code",
   "execution_count": null,
   "metadata": {},
   "outputs": [],
   "source": []
  }
 ],
 "metadata": {
  "kernelspec": {
   "display_name": "Python 3",
   "language": "python",
   "name": "python3"
  },
  "language_info": {
   "codemirror_mode": {
    "name": "ipython",
    "version": 3
   },
   "file_extension": ".py",
   "mimetype": "text/x-python",
   "name": "python",
   "nbconvert_exporter": "python",
   "pygments_lexer": "ipython3",
   "version": "3.6.6"
  }
 },
 "nbformat": 4,
 "nbformat_minor": 2
}
